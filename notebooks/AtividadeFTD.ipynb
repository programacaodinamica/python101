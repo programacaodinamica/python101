{
  "nbformat": 4,
  "nbformat_minor": 0,
  "metadata": {
    "colab": {
      "name": "AtividadeFTD.ipynb",
      "provenance": [],
      "collapsed_sections": [],
      "toc_visible": true,
      "authorship_tag": "ABX9TyMpGDu87hVp4Zi/OmaE6RSK",
      "include_colab_link": true
    },
    "kernelspec": {
      "name": "python3",
      "display_name": "Python 3"
    },
    "language_info": {
      "name": "python"
    }
  },
  "cells": [
    {
      "cell_type": "markdown",
      "metadata": {
        "id": "view-in-github",
        "colab_type": "text"
      },
      "source": [
        "<a href=\"https://colab.research.google.com/github/programacaodinamica/python101/blob/main/notebooks/AtividadeFTD.ipynb\" target=\"_parent\"><img src=\"https://colab.research.google.com/assets/colab-badge.svg\" alt=\"Open In Colab\"/></a>"
      ]
    },
    {
      "cell_type": "markdown",
      "metadata": {
        "id": "QQFds3VDZi0b"
      },
      "source": [
        "# Instruções"
      ]
    },
    {
      "cell_type": "code",
      "metadata": {
        "id": "025-Eo9USFn4"
      },
      "source": [
        "!wget -P . https://raw.githubusercontent.com/programacaodinamica/python101/main/src/formas.py\n",
        "from formas import criar_figura, adicionar, desenhar, Circulo, mostrar_seletor_cor"
      ],
      "execution_count": null,
      "outputs": []
    },
    {
      "cell_type": "markdown",
      "metadata": {
        "id": "A_x82Yo2Zh-E"
      },
      "source": [
        "# Aquecimento\n",
        "\n",
        "Começamos mostrando a estrutura que nossos programas irão seguir. O objetivo é construirmos diferentes figuras apenas com círculos. \n",
        "\n",
        "A estrutura básica é\n",
        "1. Criar figura\n",
        "2. Adicionar um ou mais círculos à figura\n",
        "3. Desenhar figura\n",
        "\n",
        "Para isso, disponibilizamos as instruções abaixo."
      ]
    },
    {
      "cell_type": "code",
      "metadata": {
        "id": "vProAdx0S73D"
      },
      "source": [
        "# Criamos uma nova figura com o nome de \"figura\" (muito criativo!)\n",
        "figura = criar_figura()\n",
        "# adicionamos um círculo de raio 5 à figura\n",
        "adicionar(Circulo(5), figura)\n",
        "# desenhamos a figura\n",
        "desenhar(figura)"
      ],
      "execution_count": null,
      "outputs": []
    },
    {
      "cell_type": "markdown",
      "metadata": {
        "id": "cuHE6Fp4o0H7"
      },
      "source": [
        "PRONTO! Depois de executar a célula anterior, você dever estar vendo um círculo preto na tela. Nós podemos mudar a cor do círculo especificando um código para cor. Veja:"
      ]
    },
    {
      "cell_type": "code",
      "metadata": {
        "id": "0qCiTxKTpHQK"
      },
      "source": [
        "# Reaproveitamos o mesmo nome \"figura\" para uma nova figura\n",
        "figura = criar_figura()\n",
        "# adicionamos um círculo de raio 5 com a cor #00ff00 à figura\n",
        "adicionar(Circulo(5, cor=\"#00ff00\"), figura)\n",
        "# desenhamos a figura\n",
        "desenhar(figura)"
      ],
      "execution_count": null,
      "outputs": []
    },
    {
      "cell_type": "markdown",
      "metadata": {
        "id": "z2oryCOlpXC3"
      },
      "source": [
        "AÊÊÊÊ!!!! Agora, temos um círculo na cor verde! Contudo, como saber o código que representa uma cor? \n",
        "\n",
        "Vamos resolver este problema com um pequeno trecho de código que cria um seletor de cor. Execute a célula a seguir e, quando o seletor de cor estiver visível, clique no quadradinho colorido para visualizar opções de cores. Quando estiver sobre a cor que deseja, basta clicar em qualquer outro lugar da tela para que ela seja selecionada e o seu código apareça na caixinha abaixo."
      ]
    },
    {
      "cell_type": "code",
      "metadata": {
        "id": "au2tp87UaF9W"
      },
      "source": [
        "# Você pode selecionar uma cor executando esta célula\n",
        "# Quando o seletor de cor estiver visível, clique no quadradinho colorido \n",
        "mostrar_seletor_cor()"
      ],
      "execution_count": null,
      "outputs": []
    },
    {
      "cell_type": "markdown",
      "metadata": {
        "id": "RS2EenRYqT-p"
      },
      "source": [
        "# Agora é sua vez!\n",
        "\n",
        "Execute a célula abaixo e observe o resultado. Você deve ver dois círculo concêntricos (de mesmo centro), porém de tamanhos diferentes, pois o raio de um é maior que do outro. \n",
        "\n",
        "* Use o seletor de cor acima para verificar o código de algumas cores e experimente modificar as instruções na célula abaixo com novos valores de cores para os círculos.\n",
        "* Experimente adicionar mais círculos com diferentes valores de raio. *Se o raio do círculo for superior a 10, ele pode não aparecer por completo na figura.*"
      ]
    },
    {
      "cell_type": "code",
      "metadata": {
        "id": "eX6a78O4qSdp"
      },
      "source": [
        "# Reaproveitamos o mesmo nome \"figura\" para uma nova figura\n",
        "figura = criar_figura()\n",
        "# adicionamos dois círculos desta vez\n",
        "adicionar(Circulo(4, cor=\"#00ffff\"), figura)\n",
        "# o raio menor é adicionado depois para ser desenhado por cima do maior \n",
        "adicionar(Circulo(2, cor=\"#ff0000\"), figura)\n",
        "# desenhamos a figura\n",
        "desenhar(figura)"
      ],
      "execution_count": null,
      "outputs": []
    },
    {
      "cell_type": "markdown",
      "metadata": {
        "id": "2w0Pv0LZe-cU"
      },
      "source": [
        "# Repetições\n",
        "\n",
        "Em uma linguagem de programação, é importante que possamos expressar repetições de instruções. A execução de tarefas repetidas de maneira rapida é uma das coisas em que as máquinas são melhores do que nós. \n",
        "\n",
        "Na linguagem de programação Python, podemos realizar repetições usando a expressão `for`. O exemplo a seguir cria um contador `i` que assume valores dentro do intervalo de 0 a 9 (o 10, último valor do intervalo, não é incluído)"
      ]
    },
    {
      "cell_type": "code",
      "metadata": {
        "id": "GSddUiLEUhfF"
      },
      "source": [
        "# repare que o que será repetido precisa estar \"empurrado\" pra dentro do for\n",
        "for i in range(0, 10):\n",
        "  print(i)"
      ],
      "execution_count": null,
      "outputs": []
    },
    {
      "cell_type": "markdown",
      "metadata": {
        "id": "kZuJV_jKfeTi"
      },
      "source": [
        "Além do `raio` e da `cor` do `Circulo`, podemos especificar alguns outros parâmetros que modificam o desenho. A `transparencia` é um deles.\n",
        "\n",
        "Podemos usar o `for`, por exemplo, para desenhar círculos com diversos graus de transparência. Como um círculo de raio 0 não faz sentido pra gente, começaremos nosso intervalo a partir do número 1."
      ]
    },
    {
      "cell_type": "code",
      "metadata": {
        "id": "ZnbAFNsgfbjZ"
      },
      "source": [
        "# criamos uma nova figura, desta vez, com o nome figura2\n",
        "figura2 = criar_figura()\n",
        "for i in range(1, 10):\n",
        "  # repetiremos a ação de adicionar variando o raio e a transparência\n",
        "  adicionar( Circulo(raio=10-i, cor=\"#ff0000\", transparencia=i/40), figura2 )\n",
        "\n",
        "# não repetiremos a instrução desenhar, por isso ela não está \"empurrada\" pra dentro do for\n",
        "desenhar(figura2)"
      ],
      "execution_count": null,
      "outputs": []
    },
    {
      "cell_type": "markdown",
      "metadata": {
        "id": "IETGgPAWhH8P"
      },
      "source": [
        "# Movendo o círculo!\n",
        "\n",
        "O último parâmetro do círculo que podemos modificar é o centro do círulo. Podemos usar o que aprendemos para mover o centro dos círculos e ter uma imagem deste deslocamento!"
      ]
    },
    {
      "cell_type": "code",
      "metadata": {
        "id": "lLJ_YGDoghNd"
      },
      "source": [
        "figura2 = criar_figura()\n",
        "for i in range(1, 10):\n",
        "  # repetiremos a ação de adicionar, desta vez, modificando o centro e a transparência\n",
        "  adicionar( Circulo(raio=1, centro=(i, i), cor=\"#ff0000\", transparencia=i/15), figura2 )\n",
        "\n",
        "# não repetiremos a instrução desenhar, por isso ela não está \"empurrada\" pra dentro do for\n",
        "desenhar(figura2)"
      ],
      "execution_count": null,
      "outputs": []
    },
    {
      "cell_type": "markdown",
      "metadata": {
        "id": "h_lS4MKjioTz"
      },
      "source": [
        "# Agora é sua vez!\n",
        "* Na célula anterior, experimente modificar os valores para o centro do círculo e também para transparência. Por exemplo, mude o parâmetro centro para `(0, i)` ou `(i, -i)` e verifique o que acontece. \n",
        "* Também tente mudar a `transparencia` para algo como `i/10` ou `i/100`. \n",
        "\n",
        "Você é livre para tentar quaisquer valores e observar os resultados."
      ]
    },
    {
      "cell_type": "code",
      "metadata": {
        "id": "T1rJa9VohjyZ"
      },
      "source": [
        "# Se preferir, pode escrever seu código aqui, copiando o anterior como base"
      ],
      "execution_count": null,
      "outputs": []
    },
    {
      "cell_type": "markdown",
      "metadata": {
        "id": "OmT7XbOpjza2"
      },
      "source": [
        "# Condições\n",
        "\n",
        "Um outro recurso muito importante dentro de uma linguagem de programação é a possibilidade de dar respostas diferentes dependendo de um valor do programa. Por exemplo, podemos optar por desenhar um círculo azul quando um determinado valor for par ou um círculo vermelho caso este valor seja ímpar. Abaixo, definimos a instrução `eh_par`, necessária para verificar se um número é par."
      ]
    },
    {
      "cell_type": "code",
      "metadata": {
        "id": "LilzBC9MkRuk"
      },
      "source": [
        "def eh_par(n):\n",
        "  # um número é par se o resto de sua divisão por 2 for igual a 0\n",
        "  return n % 2 == 0"
      ],
      "execution_count": null,
      "outputs": []
    },
    {
      "cell_type": "markdown",
      "metadata": {
        "id": "iT9k5Sbnkg70"
      },
      "source": [
        "Agora, podemos utilizar a instrução `eh_par` que acabamos de definir em conjunto com a instrução `if` e `else` (*se* e *senão*), que nos permite fazer programas com respostas diferentes a depender de um valor."
      ]
    },
    {
      "cell_type": "code",
      "metadata": {
        "id": "VfVqy6lok4t-"
      },
      "source": [
        "dia = 27\n",
        "figura3 = criar_figura()\n",
        "\n",
        "# se o dia for par\n",
        "if eh_par(dia):\n",
        "  cor_do_dia = \"#0000FF\"\n",
        "# senão (ou seja, se for ímpar)\n",
        "else:\n",
        "  cor_do_dia = \"#FF0000\"\n",
        "\n",
        "adicionar(Circulo(raio=3, cor=cor_do_dia), figura3)\n",
        "desenhar(figura3)"
      ],
      "execution_count": null,
      "outputs": []
    },
    {
      "cell_type": "markdown",
      "metadata": {
        "id": "wAauhipxlxhR"
      },
      "source": [
        "# Agora é sua vez!\n",
        "Perceba que o valor da `cor_do_dia` depende do valor do `dia`. \n",
        "* Experimente mudar o valor de `dia` e executar novamente."
      ]
    },
    {
      "cell_type": "code",
      "metadata": {
        "id": "C2lElG5BlrVY"
      },
      "source": [
        "# Se quiser fazer outros experimentos, use este espaço"
      ],
      "execution_count": null,
      "outputs": []
    },
    {
      "cell_type": "markdown",
      "metadata": {
        "id": "VmK-fiD8mLRj"
      },
      "source": [
        "# Pra finalizar, vamos misturar tudo o que aprendemos!\n",
        "\n",
        "Que tal fazermos círculos concêntricos com cores alternadas?"
      ]
    },
    {
      "cell_type": "code",
      "metadata": {
        "id": "c7Nhc6LumY4S"
      },
      "source": [
        "figura4 = criar_figura()\n",
        "\n",
        "for i in range(1, 10):\n",
        "  if eh_par(i):\n",
        "    cor_da_vez = \"#58a5d5\"\n",
        "  else:\n",
        "    cor_da_vez = \"#d558a7\"\n",
        "  \n",
        "  adicionar(Circulo(raio=10-i, cor=cor_da_vez, transparencia=0.5), figura4)\n",
        "\n",
        "desenhar(figura4)"
      ],
      "execution_count": null,
      "outputs": []
    },
    {
      "cell_type": "markdown",
      "metadata": {
        "id": "mR-U3NO2ybwy"
      },
      "source": [
        "# Agora é sua vez!\n",
        "\n",
        "Pense por alguns instantes e use a sua criatividade: o que mais você imagina que seria capaz de fazer com os recursos que você acaba de aprender? Você não precisa se preocupar em escrever um programa para implementar suas ideias, então não se limite por isso. \n",
        "\n",
        "<br/> \n",
        "*É claro que se você quiser topar o desafio, pode ficar à vontade para usar o espaço abaixo e tentar ;)*"
      ]
    },
    {
      "cell_type": "code",
      "metadata": {
        "id": "bPKaC7jFzMy9"
      },
      "source": [
        "# Se você gostou muito desta atividade, este espaço é todo seu!"
      ],
      "execution_count": null,
      "outputs": []
    },
    {
      "cell_type": "markdown",
      "metadata": {
        "id": "kwYgjRxAuULp"
      },
      "source": [
        "# Parabéns! Você acabou de ter uma experiência de programação na linguagem Python!!! 🥳🥳🥳🥳🥳🥳"
      ]
    }
  ]
}